{
 "cells": [
  {
   "cell_type": "code",
   "execution_count": 1,
   "id": "4f98e23a-e877-421c-95a8-bc373bc5d71b",
   "metadata": {},
   "outputs": [],
   "source": [
    "import pandas as pd\n",
    "import numpy as np"
   ]
  },
  {
   "cell_type": "code",
   "execution_count": 2,
   "id": "0c832af9-69a2-48c4-878c-00d03e595d6a",
   "metadata": {},
   "outputs": [],
   "source": [
    "data =  {\n",
    "    'StudyHours': [2,3,4,5,6],\n",
    "    'Marks': [40,50,60,70,85]\n",
    "}"
   ]
  },
  {
   "cell_type": "code",
   "execution_count": 3,
   "id": "ad614bd8-679a-4210-9547-ad3cb45deb84",
   "metadata": {},
   "outputs": [
    {
     "name": "stdout",
     "output_type": "stream",
     "text": [
      "   StudyHours  Marks\n",
      "0           2     40\n",
      "1           3     50\n",
      "2           4     60\n",
      "3           5     70\n",
      "4           6     85\n"
     ]
    }
   ],
   "source": [
    "df =  pd.DataFrame(data)\n",
    "print(df)"
   ]
  },
  {
   "cell_type": "code",
   "execution_count": 4,
   "id": "a03b35c3-a68a-4793-8737-cf4b2614c295",
   "metadata": {},
   "outputs": [
    {
     "name": "stdout",
     "output_type": "stream",
     "text": [
      "int64\n",
      "<class 'pandas.core.series.Series'>\n"
     ]
    }
   ],
   "source": [
    "print(df['StudyHours'].dtypes)\n",
    "print(type(df['StudyHours']))"
   ]
  },
  {
   "cell_type": "code",
   "execution_count": 5,
   "id": "8c81ebcd-5138-4c08-b3eb-7e19682c4708",
   "metadata": {},
   "outputs": [],
   "source": [
    "#Mean\n",
    "def mean(values):\n",
    "    total = len(values)\n",
    "    sumOfValues = sum(values)\n",
    "    return sumOfValues/total"
   ]
  },
  {
   "cell_type": "code",
   "execution_count": 13,
   "id": "aaa325a6-895a-4a53-b5cb-22c748d8bd54",
   "metadata": {},
   "outputs": [
    {
     "name": "stdout",
     "output_type": "stream",
     "text": [
      "Variance of study hours:  2.0\n"
     ]
    }
   ],
   "source": [
    "#Variance\n",
    "def variance(values):\n",
    "    m = mean(values)\n",
    "    return sum((x-m)**2 for x in values) / len(values)\n",
    "\n",
    "print('Variance of study hours: ',variance(df['StudyHours']))"
   ]
  },
  {
   "cell_type": "code",
   "execution_count": 16,
   "id": "be933f7f-2f49-4781-874a-5f885ecc6957",
   "metadata": {},
   "outputs": [
    {
     "name": "stdout",
     "output_type": "stream",
     "text": [
      "['P', 'r', 'a', 'b', 'e', 's', 'h']\n",
      "['P', 'r', 'a', 'b', 'e', 's', 'h']\n"
     ]
    }
   ],
   "source": [
    "name = 'Prabesh'\n",
    "arr = []\n",
    "for i in name:\n",
    "    arr.append(i)\n",
    "print(arr)\n",
    "\n",
    "#List Comprehension\n",
    "print([j for j in name])"
   ]
  },
  {
   "cell_type": "code",
   "execution_count": 8,
   "id": "2fd95738-234b-4ce6-9094-b4985da52342",
   "metadata": {},
   "outputs": [
    {
     "name": "stdout",
     "output_type": "stream",
     "text": [
      "Standard Deviation:  1.4142135623730951\n"
     ]
    }
   ],
   "source": [
    "#Standard deviation\n",
    "import math\n",
    "def std_dev(values):\n",
    "    return math.sqrt(variance(values))\n",
    "\n",
    "print(\"Standard Deviation: \", std_dev(df['StudyHours']))"
   ]
  },
  {
   "cell_type": "code",
   "execution_count": 9,
   "id": "dc0cfd8d-fbef-487d-8c20-9148640b9f93",
   "metadata": {},
   "outputs": [
    {
     "name": "stdout",
     "output_type": "stream",
     "text": [
      "Number of items in the list don't match\n"
     ]
    }
   ],
   "source": [
    "l1 = ['Bibash', 'Prabesh', 'Pratyush', 'Sanjay',\"Sindhu\"]\n",
    "l2 = ['Karki', 'Gupta', \"Kayastha\", \"Chaudhary\"]\n",
    "\n",
    "fullName = []\n",
    "\n",
    "if len(l1) == len(l2):\n",
    "    for i in range(len(l1)):\n",
    "        fullName.append(l1[i] +\" \"+ l2[i])\n",
    "    print(fullName)   \n",
    "else:\n",
    "    print(\"Number of items in the list don't match\")\n"
   ]
  },
  {
   "cell_type": "code",
   "execution_count": 24,
   "id": "9d5c2ffc-e9fe-468c-be56-c176fee19c19",
   "metadata": {},
   "outputs": [
    {
     "name": "stdout",
     "output_type": "stream",
     "text": [
      "Bibash Karki\n",
      "Prabesh Gupta\n",
      "Pratyush Kayastha\n",
      "Sanjay Chaudhary\n",
      "['Bibash Karki', 'Prabesh Gupta', 'Pratyush Kayastha', 'Sanjay Chaudhary']\n"
     ]
    }
   ],
   "source": [
    "#1st Way\n",
    "for x1, y1 in zip(l1, l2):\n",
    "    print(x1 + \" \" + y1)\n",
    "\n",
    "#2nd Way\n",
    "print([x1+ \" \" + y1 for x1, y1 in zip(l1,l2)])"
   ]
  },
  {
   "cell_type": "code",
   "execution_count": 36,
   "id": "dc19896d-a999-4730-b29d-5d51098657af",
   "metadata": {},
   "outputs": [
    {
     "name": "stdout",
     "output_type": "stream",
     "text": [
      "2.5\n",
      "27.5\n",
      "27.5\n",
      "305.0\n",
      "            StudyHours  Marks\n",
      "StudyHours         2.5   27.5\n",
      "Marks             27.5  305.0\n"
     ]
    }
   ],
   "source": [
    "#Covariance\n",
    "def cov(values1, values2):\n",
    "    m1= mean(values1)\n",
    "    m2=mean(values2)\n",
    "    total= len(values1)\n",
    "    \n",
    "    #Population covariance\n",
    "    #return sum([(x-m1)*(y-m2) for x,y in zip(values1,values2)])/total\n",
    "\n",
    "    #Sample covariance\n",
    "    return sum([(x-m1)*(y-m2) for x,y in zip(values1, values2)]) / (total-1)\n",
    "\n",
    "print(cov(df['StudyHours'], df['StudyHours']))\n",
    "print(cov(df['StudyHours'], df['Marks']))\n",
    "print(cov(df['Marks'], df['StudyHours']))\n",
    "print(cov(df['Marks'], df['Marks']))\n",
    "\n",
    "#Built in function\n",
    "print(df[['StudyHours', 'Marks']].cov())"
   ]
  },
  {
   "cell_type": "code",
   "execution_count": null,
   "id": "4a192275-c5d3-4779-85f7-78a1d19a85e0",
   "metadata": {},
   "outputs": [],
   "source": []
  },
  {
   "cell_type": "code",
   "execution_count": null,
   "id": "5283a6ab-45a8-4832-a6f6-91209375286c",
   "metadata": {},
   "outputs": [],
   "source": []
  }
 ],
 "metadata": {
  "kernelspec": {
   "display_name": "Python 3 (ipykernel)",
   "language": "python",
   "name": "python3"
  },
  "language_info": {
   "codemirror_mode": {
    "name": "ipython",
    "version": 3
   },
   "file_extension": ".py",
   "mimetype": "text/x-python",
   "name": "python",
   "nbconvert_exporter": "python",
   "pygments_lexer": "ipython3",
   "version": "3.13.3"
  }
 },
 "nbformat": 4,
 "nbformat_minor": 5
}

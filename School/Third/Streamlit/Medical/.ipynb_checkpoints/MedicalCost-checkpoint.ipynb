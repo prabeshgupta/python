{
 "cells": [
  {
   "cell_type": "code",
   "execution_count": null,
   "id": "cb212243-346c-411e-9877-8d45fb47276d",
   "metadata": {},
   "outputs": [],
   "source": [
    "import numpy as np\n",
    "import pandas as pd\n",
    "import matplotlib.pyplot as plt"
   ]
  },
  {
   "cell_type": "code",
   "execution_count": null,
   "id": "c84f56fa-02ae-4eed-9e80-c7a8bbc3a558",
   "metadata": {},
   "outputs": [],
   "source": [
    "#df = pd.read_csv(\"insurance.csv\")\n",
    "data = pd.read_csv(\"insurance.csv\")\n",
    "df = pd.DataFrame(data)\n",
    "df.head()"
   ]
  },
  {
   "cell_type": "code",
   "execution_count": null,
   "id": "2d8a7368-4888-4997-99cc-38112d41d16d",
   "metadata": {},
   "outputs": [],
   "source": [
    "df.isnull().sum()"
   ]
  },
  {
   "cell_type": "code",
   "execution_count": null,
   "id": "9fb3bcfc-7324-444b-ba84-93ff5ba32935",
   "metadata": {},
   "outputs": [],
   "source": [
    "df.isnull().sum().sum()"
   ]
  },
  {
   "cell_type": "code",
   "execution_count": null,
   "id": "75935310-ab29-40cd-b5d4-ff65f8a9132e",
   "metadata": {},
   "outputs": [],
   "source": [
    "df.describe()"
   ]
  },
  {
   "cell_type": "code",
   "execution_count": null,
   "id": "d67a07f9-047f-48cd-81a0-7937385ba123",
   "metadata": {},
   "outputs": [],
   "source": [
    "df[['age','bmi','children']].head()"
   ]
  },
  {
   "cell_type": "code",
   "execution_count": null,
   "id": "d11a738a-e42d-439d-be3e-a8bd67e5157c",
   "metadata": {},
   "outputs": [],
   "source": [
    "df['age'].head()"
   ]
  },
  {
   "cell_type": "code",
   "execution_count": null,
   "id": "84fc287d-75fb-488a-b776-e3b50b0276d8",
   "metadata": {},
   "outputs": [],
   "source": [
    "df.iloc[0:5]"
   ]
  },
  {
   "cell_type": "code",
   "execution_count": null,
   "id": "4c95e9b4-6302-421e-8611-1130eda1b2dd",
   "metadata": {},
   "outputs": [],
   "source": [
    "df = df[['age','bmi','children','charges']]"
   ]
  },
  {
   "cell_type": "code",
   "execution_count": null,
   "id": "10f4219d-e33b-40ad-b22c-3df8c5bbd700",
   "metadata": {},
   "outputs": [],
   "source": [
    "df.head()"
   ]
  },
  {
   "cell_type": "code",
   "execution_count": null,
   "id": "0281585c-957c-4c0a-89ca-7ce7e8ca08d3",
   "metadata": {},
   "outputs": [],
   "source": [
    "correlation_matrix = df.corr()"
   ]
  },
  {
   "cell_type": "code",
   "execution_count": null,
   "id": "342ddcd5-a40c-45b6-9ad1-b50c1229afba",
   "metadata": {},
   "outputs": [],
   "source": [
    "plt.figure(figsize=(6,4))\n",
    "plt.matshow(correlation_matrix)\n",
    "plt.colorbar()\n",
    "plt.title(\"correlation heatmap\",pad=20)\n",
    "plt.xticks(range(len(correlation_matrix.columns)), correlation_matrix.columns, rotation=90)\n",
    "plt.yticks(range(len(correlation_matrix.columns)), correlation_matrix.columns)\n",
    "plt.show()"
   ]
  },
  {
   "cell_type": "code",
   "execution_count": null,
   "id": "1d8b033e-1bc4-4043-9b61-8f2f13ed56f2",
   "metadata": {},
   "outputs": [],
   "source": [
    "# Scatter plot\n",
    "plt.figure(figsize=(8, 5))\n",
    "plt.scatter(df['bmi'], df['charges'], alpha=0.6, color='white', edgecolor='black')\n",
    "plt.title(\"BMI VS Charges\", fontsize=14)\n",
    "plt.xlabel(\"BMI\")\n",
    "plt.ylabel(\"Charges\")\n",
    "plt.grid(True)\n",
    "plt.show()"
   ]
  },
  {
   "cell_type": "code",
   "execution_count": null,
   "id": "808746f1-a479-4ed2-9769-8a5cfc58c486",
   "metadata": {},
   "outputs": [],
   "source": [
    "X= df[['age','bmi','children']]\n",
    "y= df['charges']"
   ]
  },
  {
   "cell_type": "code",
   "execution_count": null,
   "id": "56f114de-741c-4729-8670-49c6dc5cb6bc",
   "metadata": {},
   "outputs": [],
   "source": [
    "from sklearn.preprocessing import MinMaxScaler\n",
    "from sklearn.model_selection import train_test_split\n",
    "from sklearn.linear_model import LinearRegression\n",
    "from sklearn.metrics import mean_squared_error\n"
   ]
  },
  {
   "cell_type": "code",
   "execution_count": null,
   "id": "09a39701-e1ba-4c4c-b867-6836e64969c0",
   "metadata": {},
   "outputs": [],
   "source": [
    "scaler= MinMaxScaler()\n",
    "X_scaled =  scaler.fit_transform(X)"
   ]
  },
  {
   "cell_type": "code",
   "execution_count": null,
   "id": "47c824b9-b9b0-47d8-9140-026622552f20",
   "metadata": {},
   "outputs": [],
   "source": [
    "X_train, X_test, y_train, y_test = train_test_split(X_scaled, y, test_size=0.2, random_state=42)"
   ]
  },
  {
   "cell_type": "code",
   "execution_count": null,
   "id": "ec963738-6d5e-4d33-bb22-ec6073595a18",
   "metadata": {},
   "outputs": [],
   "source": [
    "model =  LinearRegression()\n",
    "model.fit(X_train, y_train)"
   ]
  },
  {
   "cell_type": "code",
   "execution_count": null,
   "id": "ae79f1f2-2537-4b3f-8d2b-2959733fdc43",
   "metadata": {},
   "outputs": [],
   "source": [
    "y_pred =  model.predict(X_test)"
   ]
  },
  {
   "cell_type": "code",
   "execution_count": null,
   "id": "1fc77a31-fa53-4f56-b206-e96a75567cec",
   "metadata": {},
   "outputs": [],
   "source": [
    "print(\"Predictions\", y_pred[:5])\n",
    "print('Actual values', y_test.values[:5])"
   ]
  },
  {
   "cell_type": "code",
   "execution_count": null,
   "id": "23d34bb4-efa5-48c5-a6d1-3deba6871a03",
   "metadata": {},
   "outputs": [],
   "source": [
    "mse =  mean_squared_error(y_test, y_pred)\n",
    "print(mse)"
   ]
  },
  {
   "cell_type": "code",
   "execution_count": null,
   "id": "60a2c4b0-e565-4145-9c8e-373f737856b9",
   "metadata": {},
   "outputs": [],
   "source": [
    "rmse =  mse ** 0.5\n",
    "print(rmse)"
   ]
  },
  {
   "cell_type": "code",
   "execution_count": null,
   "id": "cee89579-0117-4179-bc60-a05ff5861405",
   "metadata": {},
   "outputs": [],
   "source": [
    "#Save Model\n",
    "import pickle\n",
    "with open('trained_model.pkl','wb') as file:\n",
    "    pickle.dump(model, file)"
   ]
  },
  {
   "cell_type": "code",
   "execution_count": null,
   "id": "7382eef8-4fe4-4202-a6da-2b9f7d3944a8",
   "metadata": {},
   "outputs": [],
   "source": [
    "with open('scaler.pkl','wb') as file:\n",
    "    pickle.dump(scaler,file)"
   ]
  },
  {
   "cell_type": "code",
   "execution_count": null,
   "id": "2aad7096-2d31-483a-a090-4a16e2e3e4c8",
   "metadata": {},
   "outputs": [],
   "source": [
    "with open('trained_model.pkl', 'rb') as file:\n",
    "    loaded_model= pickle.load(file)"
   ]
  },
  {
   "cell_type": "code",
   "execution_count": null,
   "id": "a1d6177d-0af5-4ad5-97e3-5f826fb95aa4",
   "metadata": {},
   "outputs": [],
   "source": [
    "with open('scaler.pkl', 'rb') as file:\n",
    "    loaded_scaler= pickle.load(file)"
   ]
  },
  {
   "cell_type": "code",
   "execution_count": null,
   "id": "9364bf58-a18f-4cc1-b3a0-1f17bbaf8196",
   "metadata": {},
   "outputs": [],
   "source": [
    "y_pred = loaded_model.predict(X_test)\n",
    "print(y_pred[:5])"
   ]
  },
  {
   "cell_type": "code",
   "execution_count": null,
   "id": "b1aebaa9-b694-4c6d-84c2-889889d96862",
   "metadata": {},
   "outputs": [],
   "source": [
    "custom_data = [13,24.900,10]\n",
    "custom_data = pd.DataFrame([custom_data], columns=['age', 'bmi', 'children'])\n",
    "#custom_data = np.array(custom_data).reshape(1,-1)"
   ]
  },
  {
   "cell_type": "code",
   "execution_count": null,
   "id": "217acf53-bef6-4c48-ab67-ab486fd7bc0e",
   "metadata": {},
   "outputs": [],
   "source": [
    "custom_data_scaled = loaded_scaler.transform(custom_data)\n",
    "#custom_data_scaled = scaler.fit_transform(custom_data)"
   ]
  },
  {
   "cell_type": "code",
   "execution_count": null,
   "id": "8f5aef7a-d477-4de4-b009-86c1f5802552",
   "metadata": {},
   "outputs": [],
   "source": [
    "y_pred_custom = loaded_model.predict(custom_data_scaled)\n",
    "print(y_pred_custom)"
   ]
  },
  {
   "cell_type": "code",
   "execution_count": null,
   "id": "98fd245a-07d4-40bd-9439-6fcad6057357",
   "metadata": {},
   "outputs": [],
   "source": []
  }
 ],
 "metadata": {
  "kernelspec": {
   "display_name": "Python 3 (ipykernel)",
   "language": "python",
   "name": "python3"
  },
  "language_info": {
   "codemirror_mode": {
    "name": "ipython",
    "version": 3
   },
   "file_extension": ".py",
   "mimetype": "text/x-python",
   "name": "python",
   "nbconvert_exporter": "python",
   "pygments_lexer": "ipython3",
   "version": "3.12.8"
  }
 },
 "nbformat": 4,
 "nbformat_minor": 5
}
